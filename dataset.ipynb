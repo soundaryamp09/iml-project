{
 "cells": [
  {
   "cell_type": "code",
   "execution_count": 23,
   "metadata": {},
   "outputs": [],
   "source": [
    "import pandas as pd\n",
    "import numpy as np\n",
    "import matplotlib.pyplot as plt\n",
    "import seaborn as sns"
   ]
  },
  {
   "cell_type": "code",
   "execution_count": 28,
   "metadata": {},
   "outputs": [],
   "source": [
    "df = pd.read_csv(r\"C://Users//hp//Desktop//sem-4pro//final project//iml.py\")"
   ]
  },
  {
   "cell_type": "code",
   "execution_count": 29,
   "metadata": {},
   "outputs": [
    {
     "name": "stdout",
     "output_type": "stream",
     "text": [
      "Total number of records (rows): 54\n",
      "Total number of attributes (columns): 3\n"
     ]
    }
   ],
   "source": [
    "print(\"Total number of records (rows):\", len(df))\n",
    "print(\"Total number of attributes (columns):\", len(df.columns))"
   ]
  },
  {
   "cell_type": "code",
   "execution_count": 30,
   "metadata": {},
   "outputs": [
    {
     "name": "stdout",
     "output_type": "stream",
     "text": [
      "Data types of attributes:\n",
      "from flask import Flask    object\n",
      " request                   object\n",
      " render_template           object\n",
      "dtype: object\n"
     ]
    }
   ],
   "source": [
    "print(\"Data types of attributes:\")\n",
    "print(df.dtypes)"
   ]
  },
  {
   "cell_type": "code",
   "execution_count": 31,
   "metadata": {},
   "outputs": [
    {
     "name": "stdout",
     "output_type": "stream",
     "text": [
      "Summary statistics:\n",
      "                             from flask import Flask            request  \\\n",
      "count                                             54                 10   \n",
      "unique                                            53                 10   \n",
      "top             return render_template('result.html'   TfidfTransformer   \n",
      "freq                                               2                  1   \n",
      "\n",
      "        render_template  \n",
      "count                 1  \n",
      "unique                1  \n",
      "top               text)  \n",
      "freq                  1  \n"
     ]
    }
   ],
   "source": [
    "print(\"Summary statistics:\")\n",
    "print(df.describe())"
   ]
  },
  {
   "cell_type": "code",
   "execution_count": 32,
   "metadata": {},
   "outputs": [
    {
     "name": "stdout",
     "output_type": "stream",
     "text": [
      "Missing or incomplete data:\n",
      "from flask import Flask     0\n",
      " request                   44\n",
      " render_template           53\n",
      "dtype: int64\n"
     ]
    }
   ],
   "source": [
    "print(\"Missing or incomplete data:\")\n",
    "print(df.isnull().sum())"
   ]
  },
  {
   "cell_type": "code",
   "execution_count": 33,
   "metadata": {},
   "outputs": [
    {
     "name": "stdout",
     "output_type": "stream",
     "text": [
      "before handling missing values: 54\n"
     ]
    }
   ],
   "source": [
    "print(\"before handling missing values:\", len(df))"
   ]
  },
  {
   "cell_type": "code",
   "execution_count": 34,
   "metadata": {},
   "outputs": [
    {
     "name": "stdout",
     "output_type": "stream",
     "text": [
      "After handling missing values: 1\n"
     ]
    }
   ],
   "source": [
    "df = df.dropna()\n",
    "print(\"After handling missing values:\", len(df))"
   ]
  },
  {
   "cell_type": "code",
   "execution_count": 35,
   "metadata": {},
   "outputs": [
    {
     "name": "stdout",
     "output_type": "stream",
     "text": [
      "After encoding categorical variables: (1, 0)\n"
     ]
    }
   ],
   "source": [
    "df = pd.get_dummies(df, drop_first=True)\n",
    "print(\"After encoding categorical variables:\", df.shape)\n"
   ]
  }
 ],
 "metadata": {
  "kernelspec": {
   "display_name": "Python 3",
   "language": "python",
   "name": "python3"
  },
  "language_info": {
   "codemirror_mode": {
    "name": "ipython",
    "version": 3
   },
   "file_extension": ".py",
   "mimetype": "text/x-python",
   "name": "python",
   "nbconvert_exporter": "python",
   "pygments_lexer": "ipython3",
   "version": "3.11.1"
  }
 },
 "nbformat": 4,
 "nbformat_minor": 2
}
